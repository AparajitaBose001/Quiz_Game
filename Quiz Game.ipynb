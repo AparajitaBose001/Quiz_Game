{
 "cells": [
  {
   "cell_type": "code",
   "execution_count": null,
   "metadata": {},
   "outputs": [
    {
     "name": "stdout",
     "output_type": "stream",
     "text": [
      "Welcome to my quiz!\n",
      "Do you wanna play? yes\n",
      "Okay! Let's start playing!\n",
      "What does BCD stand for ? \n",
      " Binary Coded Decimal\n",
      "Incorrect!\n",
      "Do you wanna play? yes\n",
      "Okay! Let's start playing!\n",
      "What does IC stand for? \n",
      "Integrated Circuit\n",
      "Incorrect!\n",
      "Do you wanna play? No\n",
      "Okay!\n",
      "What does ISP stand for?\n"
     ]
    }
   ],
   "source": [
    "print(\"Welcome to my quiz!\")\n",
    "play = input(\"Do you wanna play? \")\n",
    "if play == \"yes\" or play== \"Yes\" or play== \"YES\":\n",
    "    print(\"Okay! Let's start playing!\")\n",
    "else:\n",
    "    print(\"Okay!\")\n",
    "    pass  \n",
    "score = 0\n",
    "print(\"What does BCD stand for ? \")\n",
    "answer = input(\" \").lower()\n",
    "if answer== \"Binary Coded Decimal\":\n",
    "    print('Correct!')\n",
    "    score += 1\n",
    "else:\n",
    "    print(\"Incorrect!\")\n",
    "play = input(\"Do you wanna play? \")\n",
    "if play == \"yes\" or play== \"Yes\" or play== \"YES\":\n",
    "    print(\"Okay! Let's start playing!\")\n",
    "else:\n",
    "    print(\"Okay!\")\n",
    "    pass \n",
    "    \n",
    "print(\"What does IC stand for? \")\n",
    "answer = input(\"\").lower()\n",
    "if answer== \"Integrated Circuit\":\n",
    "    print('Correct!')\n",
    "    score += 1\n",
    "else:\n",
    "    print(\"Incorrect!\")\n",
    "play = input(\"Do you wanna play? \")\n",
    "\n",
    "if play == \"yes\" or play== \"Yes\" or play== \"YES\":\n",
    "    print(\"Okay! Let's start playing!\")\n",
    "else:\n",
    "    print(\"Okay!\")\n",
    "    pass \n",
    "    \n",
    "print(\"What does ISP stand for?\")\n",
    "answer = input(\"\").lower()\n",
    "if answer == \"Internet Service Provider\":\n",
    "    print('Correct!')\n",
    "    score += 1\n",
    "else:\n",
    "    print(\"Incorrect!\")\n",
    "play = input(\"Do you wanna play? \")\n",
    "if play == \"yes\" or play== \"Yes\" or play== \"YES\":\n",
    "    print(\"Okay! Let's start playing!\")\n",
    "else:\n",
    "    print(\"Okay!\")\n",
    "    pass\n",
    "print(\"What does KB stand for? \")\n",
    "answer = input(\"\").lower()\n",
    "if answer== \"KILOBYTE\":\n",
    "    print('Correct!')\n",
    "    score += 1\n",
    "else:\n",
    "    print(\"Incorrect!\")\n",
    "print(\"You got \" ,score,\" questions correct!\")\n",
    "print(\"You got \",((score / 4) * 100),\"%.\")"
   ]
  },
  {
   "cell_type": "code",
   "execution_count": null,
   "metadata": {},
   "outputs": [],
   "source": []
  }
 ],
 "metadata": {
  "kernelspec": {
   "display_name": "Python 3",
   "language": "python",
   "name": "python3"
  },
  "language_info": {
   "codemirror_mode": {
    "name": "ipython",
    "version": 3
   },
   "file_extension": ".py",
   "mimetype": "text/x-python",
   "name": "python",
   "nbconvert_exporter": "python",
   "pygments_lexer": "ipython3",
   "version": "3.7.6"
  }
 },
 "nbformat": 4,
 "nbformat_minor": 4
}
